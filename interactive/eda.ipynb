{
 "cells": [
  {
   "cell_type": "code",
   "execution_count": 1,
   "metadata": {},
   "outputs": [],
   "source": [
    "import pandas as pd\n",
    "from pandas_profiling import ProfileReport"
   ]
  },
  {
   "cell_type": "code",
   "execution_count": 2,
   "metadata": {},
   "outputs": [],
   "source": [
    "df = pd.read_csv('../data/travel_insurance.csv')"
   ]
  },
  {
   "cell_type": "code",
   "execution_count": 13,
   "metadata": {},
   "outputs": [],
   "source": [
    "# ProfileReport(df, title='travel_insurance_report')"
   ]
  },
  {
   "cell_type": "code",
   "execution_count": 14,
   "metadata": {},
   "outputs": [
    {
     "data": {
      "text/plain": [
       "Index(['Agency', 'Agency Type', 'Distribution Channel', 'Product Name',\n",
       "       'Claim', 'Duration', 'Destination', 'Net Sales', 'Commision (in value)',\n",
       "       'Gender', 'Age'],\n",
       "      dtype='object')"
      ]
     },
     "execution_count": 14,
     "metadata": {},
     "output_type": "execute_result"
    }
   ],
   "source": [
    "df.columns"
   ]
  },
  {
   "cell_type": "code",
   "execution_count": 17,
   "metadata": {},
   "outputs": [
    {
     "data": {
      "text/plain": [
       "array(['Comprehensive Plan', 'Rental Vehicle Excess Insurance',\n",
       "       'Value Plan', 'Basic Plan', 'Premier Plan',\n",
       "       '2 way Comprehensive Plan', 'Bronze Plan', 'Silver Plan',\n",
       "       'Annual Silver Plan', 'Cancellation Plan',\n",
       "       '1 way Comprehensive Plan', 'Ticket Protector', '24 Protect',\n",
       "       'Gold Plan', 'Annual Gold Plan',\n",
       "       'Single Trip Travel Protect Silver',\n",
       "       'Individual Comprehensive Plan',\n",
       "       'Spouse or Parents Comprehensive Plan',\n",
       "       'Annual Travel Protect Silver',\n",
       "       'Single Trip Travel Protect Platinum',\n",
       "       'Annual Travel Protect Gold', 'Single Trip Travel Protect Gold',\n",
       "       'Annual Travel Protect Platinum', 'Child Comprehensive Plan',\n",
       "       'Travel Cruise Protect', 'Travel Cruise Protect Family'],\n",
       "      dtype=object)"
      ]
     },
     "execution_count": 17,
     "metadata": {},
     "output_type": "execute_result"
    }
   ],
   "source": [
    "df['Product Name'].unique()"
   ]
  },
  {
   "cell_type": "code",
   "execution_count": null,
   "metadata": {},
   "outputs": [],
   "source": []
  }
 ],
 "metadata": {
  "kernelspec": {
   "display_name": "Python 3.8.13 64-bit",
   "language": "python",
   "name": "python3"
  },
  "language_info": {
   "codemirror_mode": {
    "name": "ipython",
    "version": 3
   },
   "file_extension": ".py",
   "mimetype": "text/x-python",
   "name": "python",
   "nbconvert_exporter": "python",
   "pygments_lexer": "ipython3",
   "version": "3.8.13"
  },
  "orig_nbformat": 4,
  "vscode": {
   "interpreter": {
    "hash": "949777d72b0d2535278d3dc13498b2535136f6dfe0678499012e853ee9abcab1"
   }
  }
 },
 "nbformat": 4,
 "nbformat_minor": 2
}
